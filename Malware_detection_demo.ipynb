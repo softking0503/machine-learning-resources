{
  "nbformat": 4,
  "nbformat_minor": 0,
  "metadata": {
    "colab": {
      "name": "Malware_detection_demo.ipynb",
      "provenance": []
    },
    "kernelspec": {
      "name": "python3",
      "display_name": "Python 3"
    },
    "language_info": {
      "name": "python"
    }
  },
  "cells": [
    {
      "cell_type": "markdown",
      "metadata": {
        "id": "sQOBuZunjFaO"
      },
      "source": [
        "**MALWARE DETECTION THROUGH MACHINE LEARNING**\n"
      ]
    },
    {
      "cell_type": "markdown",
      "metadata": {
        "id": "M8Vit7C8jJwC"
      },
      "source": [
        "# This System is made for Indian Army!"
      ]
    },
    {
      "cell_type": "code",
      "metadata": {
        "id": "2bs6skxsjCtA"
      },
      "source": [
        "import os\n"
      ],
      "execution_count": 1,
      "outputs": []
    },
    {
      "cell_type": "code",
      "metadata": {
        "colab": {
          "base_uri": "https://localhost:8080/"
        },
        "id": "ITbxWxoijMoR",
        "outputId": "aabe5d94-e60f-4332-c005-a4f18f2ef721"
      },
      "source": [
        "!pip install sklearn"
      ],
      "execution_count": 2,
      "outputs": [
        {
          "output_type": "stream",
          "text": [
            "Requirement already satisfied: sklearn in /usr/local/lib/python3.7/dist-packages (0.0)\n",
            "Requirement already satisfied: scikit-learn in /usr/local/lib/python3.7/dist-packages (from sklearn) (0.22.2.post1)\n",
            "Requirement already satisfied: scipy>=0.17.0 in /usr/local/lib/python3.7/dist-packages (from scikit-learn->sklearn) (1.4.1)\n",
            "Requirement already satisfied: joblib>=0.11 in /usr/local/lib/python3.7/dist-packages (from scikit-learn->sklearn) (1.0.1)\n",
            "Requirement already satisfied: numpy>=1.11.0 in /usr/local/lib/python3.7/dist-packages (from scikit-learn->sklearn) (1.19.5)\n"
          ],
          "name": "stdout"
        }
      ]
    },
    {
      "cell_type": "code",
      "metadata": {
        "colab": {
          "base_uri": "https://localhost:8080/"
        },
        "id": "u4JPwd3zjQ4H",
        "outputId": "1fef9f7d-82ef-43d7-aa13-c4b3aab9d9ad"
      },
      "source": [
        "import os\n",
        "import pandas\n",
        "import numpy\n",
        "\n",
        "\n",
        "import sklearn.ensemble as ek\n",
        "from sklearn import tree, linear_model\n",
        "from sklearn.feature_selection import SelectFromModel\n",
        "from sklearn.externals import joblib\n",
        "from sklearn.naive_bayes import GaussianNB\n",
        "from sklearn.metrics import confusion_matrix\n",
        "from sklearn.pipeline import make_pipeline\n",
        "from sklearn import preprocessing\n",
        "from sklearn import svm\n",
        "from sklearn.linear_model import LinearRegression"
      ],
      "execution_count": 3,
      "outputs": [
        {
          "output_type": "stream",
          "text": [
            "/usr/local/lib/python3.7/dist-packages/sklearn/externals/joblib/__init__.py:15: FutureWarning: sklearn.externals.joblib is deprecated in 0.21 and will be removed in 0.23. Please import this functionality directly from joblib, which can be installed with: pip install joblib. If this warning is raised when loading pickled models, you may need to re-serialize those models with scikit-learn 0.21+.\n",
            "  warnings.warn(msg, category=FutureWarning)\n"
          ],
          "name": "stderr"
        }
      ]
    },
    {
      "cell_type": "code",
      "metadata": {
        "id": "iqNt7t5KjP39"
      },
      "source": [
        ""
      ],
      "execution_count": null,
      "outputs": []
    },
    {
      "cell_type": "markdown",
      "metadata": {
        "id": "5MogijM3jT1G"
      },
      "source": [
        "WAIT WAIT WAIT !!!\n",
        "\n",
        "\n",
        "For Full Project Mail me at vatshayan007@gmail.com \n",
        "\n",
        "I Will Send you PPT, Project Report, Code and Paper. "
      ]
    },
    {
      "cell_type": "code",
      "metadata": {
        "id": "tMPobdNIjTk8"
      },
      "source": [
        ""
      ],
      "execution_count": null,
      "outputs": []
    }
  ]
}